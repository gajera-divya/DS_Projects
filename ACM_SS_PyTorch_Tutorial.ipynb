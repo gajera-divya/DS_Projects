{
  "cells": [
    {
      "cell_type": "markdown",
      "metadata": {
        "id": "view-in-github",
        "colab_type": "text"
      },
      "source": [
        "<a href=\"https://colab.research.google.com/github/gajera-divya/DS_Projects/blob/main/ACM_SS_PyTorch_Tutorial.ipynb\" target=\"_parent\"><img src=\"https://colab.research.google.com/assets/colab-badge.svg\" alt=\"Open In Colab\"/></a>"
      ]
    },
    {
      "cell_type": "markdown",
      "source": [
        ""
      ],
      "metadata": {
        "id": "nN5IWOFZKwHl"
      }
    },
    {
      "cell_type": "markdown",
      "metadata": {
        "id": "reDEJiN20cPq"
      },
      "source": [
        "# PyTorch Installation"
      ]
    },
    {
      "cell_type": "markdown",
      "metadata": {
        "id": "LJeiTHe-0cP4"
      },
      "source": [
        "1. Go to https://pytorch.org/get-started/locally/\n",
        "2. Select the system and user specification and proceed with the command on terminal."
      ]
    },
    {
      "cell_type": "markdown",
      "metadata": {
        "id": "k3rKSMAI0cP6"
      },
      "source": [
        "# PyTorch Basics"
      ]
    },
    {
      "cell_type": "markdown",
      "metadata": {
        "id": "addujo2s0cP7"
      },
      "source": [
        "__*Import necessary packages*__"
      ]
    },
    {
      "cell_type": "code",
      "execution_count": null,
      "metadata": {
        "id": "jVKqdVb50cP8"
      },
      "outputs": [],
      "source": [
        "import torch\n",
        "import time\n",
        "import numpy as np"
      ]
    },
    {
      "cell_type": "markdown",
      "metadata": {
        "id": "rQN1mxFY0cP-"
      },
      "source": [
        "__*Construct an uninitialised matrix*__"
      ]
    },
    {
      "cell_type": "code",
      "execution_count": null,
      "metadata": {
        "scrolled": true,
        "id": "e4BUhuGH0cP_",
        "outputId": "27425581-7b45-4b37-d319-3e201a4563e4"
      },
      "outputs": [
        {
          "name": "stdout",
          "output_type": "stream",
          "text": [
            "tensor([[5.6719e-11, 7.3471e+28, 2.6383e+23],\n",
            "        [2.7376e+20, 1.8040e+28, 1.8750e-19],\n",
            "        [7.3909e+22, 2.4176e-12, 2.6209e+20],\n",
            "        [4.1641e+12, 8.9625e-01, 7.9309e+34],\n",
            "        [7.9439e+08, 3.2604e-12, 7.3113e+34]])\n"
          ]
        }
      ],
      "source": [
        "x = torch.empty(5, 3)\n",
        "print(x)"
      ]
    },
    {
      "cell_type": "markdown",
      "metadata": {
        "id": "SAmo16tD0cQD"
      },
      "source": [
        "__*Construct a randomly initialised matrix*__"
      ]
    },
    {
      "cell_type": "code",
      "execution_count": null,
      "metadata": {
        "id": "wlqB1HZR0cQF",
        "outputId": "99c032a3-6e2b-4543-d59e-2b10dcc6ddc5"
      },
      "outputs": [
        {
          "name": "stdout",
          "output_type": "stream",
          "text": [
            "tensor([[0.9270, 0.8969, 0.4727],\n",
            "        [0.5414, 0.2970, 0.5820],\n",
            "        [0.7476, 0.3890, 0.8028],\n",
            "        [0.8143, 0.9711, 0.9677],\n",
            "        [0.0934, 0.4860, 0.4934]])\n"
          ]
        }
      ],
      "source": [
        "x = torch.rand(5, 3)\n",
        "print(x)"
      ]
    },
    {
      "cell_type": "markdown",
      "metadata": {
        "id": "AIoDzh8x0cQG"
      },
      "source": [
        "__*Construct a matrix filled with zeros and of a specific datatype*__"
      ]
    },
    {
      "cell_type": "code",
      "execution_count": null,
      "metadata": {
        "id": "xujBI4gr0cQH",
        "outputId": "5031172a-511d-486e-fc1e-0b5b23e1a272"
      },
      "outputs": [
        {
          "name": "stdout",
          "output_type": "stream",
          "text": [
            "tensor([[0., 0., 0.],\n",
            "        [0., 0., 0.],\n",
            "        [0., 0., 0.],\n",
            "        [0., 0., 0.],\n",
            "        [0., 0., 0.]], dtype=torch.float64)\n"
          ]
        }
      ],
      "source": [
        "x = torch.zeros(5, 3, dtype=torch.float64)\n",
        "print(x)"
      ]
    },
    {
      "cell_type": "markdown",
      "metadata": {
        "id": "z-u3YS-K0cQI"
      },
      "source": [
        "__*Construct a tensor directly from data*__"
      ]
    },
    {
      "cell_type": "code",
      "execution_count": null,
      "metadata": {
        "id": "qdDxttoM0cQJ",
        "outputId": "0ac81559-617d-4c3e-fabb-81b2bddcad1c"
      },
      "outputs": [
        {
          "name": "stdout",
          "output_type": "stream",
          "text": [
            "tensor([[5.6500, 3.2500, 6.8500],\n",
            "        [2.8500, 5.0000, 6.0000]])\n"
          ]
        }
      ],
      "source": [
        "x = torch.tensor([[5.65, 3.25, 6.85], [2.85, 5, 6]])\n",
        "print(x)"
      ]
    },
    {
      "cell_type": "markdown",
      "metadata": {
        "id": "XHXGlcOQ0cQJ"
      },
      "source": [
        "__*Construct a tensor based on existing tensor*__"
      ]
    },
    {
      "cell_type": "code",
      "execution_count": null,
      "metadata": {
        "id": "ObEfT2_i0cQK",
        "outputId": "4ed26148-ee4e-45b0-c0b6-201bf5833b86"
      },
      "outputs": [
        {
          "name": "stdout",
          "output_type": "stream",
          "text": [
            "tensor([[1., 1., 1.],\n",
            "        [1., 1., 1.],\n",
            "        [1., 1., 1.],\n",
            "        [1., 1., 1.],\n",
            "        [1., 1., 1.]], dtype=torch.float64)\n"
          ]
        }
      ],
      "source": [
        "x = x.new_ones(5, 3, dtype=torch.double)\n",
        "print(x)"
      ]
    },
    {
      "cell_type": "code",
      "execution_count": null,
      "metadata": {
        "id": "Sz5bc3pK0cQL",
        "outputId": "a9e2ce6e-93e6-47c2-d260-5bc966142be3"
      },
      "outputs": [
        {
          "name": "stdout",
          "output_type": "stream",
          "text": [
            "tensor([[ 1.7121, -0.4409,  2.3310],\n",
            "        [-1.5111, -1.0093, -0.8093],\n",
            "        [-0.9493, -0.2493, -0.2958],\n",
            "        [ 0.4474, -0.1314, -0.3227],\n",
            "        [-0.4177,  1.8242, -2.6888]])\n"
          ]
        }
      ],
      "source": [
        "x = torch.randn_like(x, dtype=torch.float)\n",
        "print(x)"
      ]
    },
    {
      "cell_type": "markdown",
      "metadata": {
        "id": "LHJa0tb30cQM"
      },
      "source": [
        "__*Get the size of the tensor*__"
      ]
    },
    {
      "cell_type": "code",
      "execution_count": null,
      "metadata": {
        "id": "B_3JQO-80cQM",
        "outputId": "424a9cd6-f03c-4f4a-d76d-a5f4b4917891"
      },
      "outputs": [
        {
          "name": "stdout",
          "output_type": "stream",
          "text": [
            "torch.Size([5, 3])\n"
          ]
        }
      ],
      "source": [
        "print(x.size())"
      ]
    },
    {
      "cell_type": "markdown",
      "metadata": {
        "id": "o7v6C4710cQN"
      },
      "source": [
        "__*Basic Arithmetic operations*__"
      ]
    },
    {
      "cell_type": "markdown",
      "metadata": {
        "id": "E-Lj5ioM0cQN"
      },
      "source": [
        "__Addition__"
      ]
    },
    {
      "cell_type": "markdown",
      "metadata": {
        "id": "g2jrpr7S0cQO"
      },
      "source": [
        "__(a). Addition: Syntax 1__"
      ]
    },
    {
      "cell_type": "code",
      "execution_count": null,
      "metadata": {
        "id": "zrGVkH1h0cQO",
        "outputId": "26654ffe-c48d-4583-c84f-26673d93a32c"
      },
      "outputs": [
        {
          "name": "stdout",
          "output_type": "stream",
          "text": [
            "tensor([[ 1.8186,  0.3905,  2.5391],\n",
            "        [-0.7168, -0.3101, -0.0902],\n",
            "        [-0.5343,  0.6705,  0.3584],\n",
            "        [ 0.9960,  0.0096,  0.2799],\n",
            "        [ 0.3118,  1.9522, -2.5360]])\n"
          ]
        }
      ],
      "source": [
        "y =torch.rand(5, 3)\n",
        "print(x + y)"
      ]
    },
    {
      "cell_type": "markdown",
      "metadata": {
        "id": "R596qYTo0cQP"
      },
      "source": [
        "__(b). Addition: Syntax 2__"
      ]
    },
    {
      "cell_type": "code",
      "execution_count": null,
      "metadata": {
        "id": "HRZPK0bZ0cQQ",
        "outputId": "cef6cd48-fdd0-4244-b9f5-ad63718c3161"
      },
      "outputs": [
        {
          "name": "stdout",
          "output_type": "stream",
          "text": [
            "tensor([[ 1.8186,  0.3905,  2.5391],\n",
            "        [-0.7168, -0.3101, -0.0902],\n",
            "        [-0.5343,  0.6705,  0.3584],\n",
            "        [ 0.9960,  0.0096,  0.2799],\n",
            "        [ 0.3118,  1.9522, -2.5360]])\n"
          ]
        }
      ],
      "source": [
        "print(torch.add(x, y))"
      ]
    },
    {
      "cell_type": "markdown",
      "metadata": {
        "id": "FWwRvy2U0cQQ"
      },
      "source": [
        "__(c). Addition: Output tensor as argument__"
      ]
    },
    {
      "cell_type": "code",
      "execution_count": null,
      "metadata": {
        "id": "GNdmcm4c0cQR",
        "outputId": "7afca010-2ce2-40b3-dda5-8d128611778a"
      },
      "outputs": [
        {
          "name": "stdout",
          "output_type": "stream",
          "text": [
            "tensor([[ 1.8186,  0.3905,  2.5391],\n",
            "        [-0.7168, -0.3101, -0.0902],\n",
            "        [-0.5343,  0.6705,  0.3584],\n",
            "        [ 0.9960,  0.0096,  0.2799],\n",
            "        [ 0.3118,  1.9522, -2.5360]])\n"
          ]
        }
      ],
      "source": [
        "result = torch.rand(5, 3)\n",
        "torch.add(x, y, out = result)\n",
        "print(result)"
      ]
    },
    {
      "cell_type": "markdown",
      "metadata": {
        "id": "DnmaGu7A0cQR"
      },
      "source": [
        "__(d). Addition: Inplace__"
      ]
    },
    {
      "cell_type": "code",
      "execution_count": null,
      "metadata": {
        "id": "g48mHsuA0cQS",
        "outputId": "3e65f60d-ec4c-40bb-fa7e-4d52a333fc65"
      },
      "outputs": [
        {
          "name": "stdout",
          "output_type": "stream",
          "text": [
            "tensor([[ 1.8186,  0.3905,  2.5391],\n",
            "        [-0.7168, -0.3101, -0.0902],\n",
            "        [-0.5343,  0.6705,  0.3584],\n",
            "        [ 0.9960,  0.0096,  0.2799],\n",
            "        [ 0.3118,  1.9522, -2.5360]])\n"
          ]
        }
      ],
      "source": [
        "y.add_(x)\n",
        "print(y)"
      ]
    },
    {
      "cell_type": "code",
      "execution_count": null,
      "metadata": {
        "id": "cee0HWfY0cQT",
        "outputId": "e1fe25ed-eda4-4d0c-fe89-4b76004a002b"
      },
      "outputs": [
        {
          "name": "stdout",
          "output_type": "stream",
          "text": [
            "tensor([[ 1.8186,  0.3905,  2.5391],\n",
            "        [-0.7168, -0.3101, -0.0902],\n",
            "        [-0.5343,  0.6705,  0.3584],\n",
            "        [ 0.9960,  0.0096,  0.2799],\n",
            "        [ 0.3118,  1.9522, -2.5360]])\n"
          ]
        }
      ],
      "source": [
        "x.copy_(y)\n",
        "print(x)"
      ]
    },
    {
      "cell_type": "markdown",
      "metadata": {
        "id": "ep7-kZaj0cQV"
      },
      "source": [
        "__2. Matrix multiplication__"
      ]
    },
    {
      "cell_type": "code",
      "execution_count": null,
      "metadata": {
        "scrolled": true,
        "id": "T25N2prm0cQV",
        "outputId": "2ac70e33-8b0f-4a6a-9866-f079062fab8d"
      },
      "outputs": [
        {
          "name": "stdout",
          "output_type": "stream",
          "text": [
            "tensor([[ 9.9069, -1.6536,  0.2001,  2.5259, -5.1100],\n",
            "        [-1.6536,  0.6180,  0.1427, -0.7421, -0.6001],\n",
            "        [ 0.2001,  0.1427,  0.8635, -0.4254,  0.2334],\n",
            "        [ 2.5259, -0.7421, -0.4254,  1.0705, -0.3807],\n",
            "        [-5.1100, -0.6001,  0.2334, -0.3807, 10.3398]])\n"
          ]
        }
      ],
      "source": [
        "z = torch.mm(x, y.t_())\n",
        "print(z)"
      ]
    },
    {
      "cell_type": "markdown",
      "metadata": {
        "id": "G_kNi_Op0cQW"
      },
      "source": [
        "__*Numpy-like indexing*__"
      ]
    },
    {
      "cell_type": "code",
      "execution_count": null,
      "metadata": {
        "id": "yQTA8OIJ0cQW",
        "outputId": "333598bb-5e19-41d4-c4c6-1b9c953761b8"
      },
      "outputs": [
        {
          "name": "stdout",
          "output_type": "stream",
          "text": [
            "tensor([-1.6536,  0.6180,  0.1427, -0.7421, -0.6001])\n"
          ]
        }
      ],
      "source": [
        "print(z[:, 1])"
      ]
    },
    {
      "cell_type": "markdown",
      "metadata": {
        "id": "UurCq-nH0cQX"
      },
      "source": [
        "__*Resizing the tensor*__"
      ]
    },
    {
      "cell_type": "code",
      "execution_count": null,
      "metadata": {
        "id": "GakIdQjh0cQX",
        "outputId": "b0e0ea23-823a-4d3d-e46d-db879e7c1ca4"
      },
      "outputs": [
        {
          "name": "stdout",
          "output_type": "stream",
          "text": [
            "torch.Size([3, 4]) torch.Size([12]) torch.Size([2, 6])\n"
          ]
        }
      ],
      "source": [
        "x = torch.randn(3, 4)\n",
        "y = x.view(12)\n",
        "z = x.view(-1,6)\n",
        "\n",
        "print(x.size(), y.size(), z.size())"
      ]
    },
    {
      "cell_type": "markdown",
      "metadata": {
        "id": "J62t12Bn0cQX"
      },
      "source": [
        "__*Numpy-Bridge*__"
      ]
    },
    {
      "cell_type": "markdown",
      "metadata": {
        "id": "aN-uC4c-0cQZ"
      },
      "source": [
        "__(a). Numpy to tensor__"
      ]
    },
    {
      "cell_type": "code",
      "execution_count": null,
      "metadata": {
        "id": "dsJ7Nkfp0cQa",
        "outputId": "34435d53-8438-4bf2-aaf1-40bc4e617d41"
      },
      "outputs": [
        {
          "name": "stdout",
          "output_type": "stream",
          "text": [
            "tensor([1., 1., 1., 1., 1.])\n"
          ]
        }
      ],
      "source": [
        "a = torch.ones(5)\n",
        "print(a)"
      ]
    },
    {
      "cell_type": "code",
      "execution_count": null,
      "metadata": {
        "id": "pGj56crA0cQc",
        "outputId": "c3dac3ba-9a2d-40db-dcdd-4dff596c1762"
      },
      "outputs": [
        {
          "name": "stdout",
          "output_type": "stream",
          "text": [
            "[1. 1. 1. 1. 1.]\n"
          ]
        }
      ],
      "source": [
        "b = a.numpy()\n",
        "print(b)"
      ]
    },
    {
      "cell_type": "code",
      "execution_count": null,
      "metadata": {
        "id": "XvRQ99jV0cQd",
        "outputId": "a23a4a5a-f5e3-44dc-d0ba-671ec5a4806d"
      },
      "outputs": [
        {
          "name": "stdout",
          "output_type": "stream",
          "text": [
            "tensor([2., 2., 2., 2., 2.])\n",
            "[2. 2. 2. 2. 2.]\n"
          ]
        }
      ],
      "source": [
        "a.add_(1)\n",
        "print(a)\n",
        "print(b)"
      ]
    },
    {
      "cell_type": "markdown",
      "metadata": {
        "id": "gJTeECLw0cQe"
      },
      "source": [
        "__(b). Tensor to numpy__"
      ]
    },
    {
      "cell_type": "code",
      "execution_count": null,
      "metadata": {
        "id": "piCma_Z80cQf",
        "outputId": "b6a5f454-36f7-4f74-9802-d258b2a6bc62"
      },
      "outputs": [
        {
          "name": "stdout",
          "output_type": "stream",
          "text": [
            "[2. 2. 2. 2. 2.]\n",
            "tensor([2., 2., 2., 2., 2.], dtype=torch.float64)\n"
          ]
        }
      ],
      "source": [
        "a = np.ones(5)\n",
        "b = torch.from_numpy(a)\n",
        "np.add(a, 1, out = a) \n",
        "\n",
        "print(a)\n",
        "print(b)        "
      ]
    },
    {
      "cell_type": "markdown",
      "metadata": {
        "id": "Q6djBDv30cQg"
      },
      "source": [
        "# __CUDA Tensors__ "
      ]
    },
    {
      "cell_type": "markdown",
      "metadata": {
        "id": "rraHtTn00cQh"
      },
      "source": [
        "__Note__: *Make sure you have the GPU and CUDA installed in your system before running any piece of code relating to GPU.*"
      ]
    },
    {
      "cell_type": "markdown",
      "metadata": {
        "id": "l6EhPKr70cQh"
      },
      "source": [
        "*The CUDA installation can be done through: https://developer.nvidia.com/cuda-downloads\n",
        "\n",
        "*For Linux OS with 64-bit architecture: https://developer.nvidia.com/cuda-downloads?target_os=Linux&target_arch=x86_64&target_distro=Ubuntu&target_version=1604&target_type=debnetwork"
      ]
    },
    {
      "cell_type": "code",
      "execution_count": null,
      "metadata": {
        "id": "IUbdg3aB0cQi",
        "outputId": "af977d42-79e8-4a36-a3df-cbc18a88a2eb"
      },
      "outputs": [
        {
          "data": {
            "text/plain": [
              "True"
            ]
          },
          "execution_count": 21,
          "metadata": {},
          "output_type": "execute_result"
        }
      ],
      "source": [
        "torch.cuda.is_available()"
      ]
    },
    {
      "cell_type": "code",
      "execution_count": null,
      "metadata": {
        "id": "58FVGN3V0cQl",
        "outputId": "335307a8-9eb1-49dd-9aaf-580867393297"
      },
      "outputs": [
        {
          "name": "stdout",
          "output_type": "stream",
          "text": [
            "tensor([1., 1., 1., 1., 1.], device='cuda:0')\n"
          ]
        }
      ],
      "source": [
        "z = torch.ones(5).cuda()\n",
        "print(z)"
      ]
    },
    {
      "cell_type": "code",
      "execution_count": null,
      "metadata": {
        "id": "S-E6ow_50cQm",
        "outputId": "fe36d487-325e-41da-e21b-f673c88cdc9e"
      },
      "outputs": [
        {
          "data": {
            "text/plain": [
              "tensor([1., 1., 1., 1., 1.])"
            ]
          },
          "execution_count": 23,
          "metadata": {},
          "output_type": "execute_result"
        }
      ],
      "source": [
        "z.cpu()"
      ]
    },
    {
      "cell_type": "markdown",
      "metadata": {
        "id": "PUdYv2_80cQn"
      },
      "source": [
        "__Comparing execution time__: *Numpy Vs Tensor on GPU*"
      ]
    },
    {
      "cell_type": "code",
      "execution_count": null,
      "metadata": {
        "id": "W6HyhSym0cQp",
        "outputId": "0c9de01c-040a-4128-fab3-da2ceff08f97"
      },
      "outputs": [
        {
          "name": "stdout",
          "output_type": "stream",
          "text": [
            "---Time taken by numpy execution is: 0.24580025672912598 seconds ---\n"
          ]
        }
      ],
      "source": [
        "d=3000\n",
        "\n",
        "a = np.random.rand(d, d)\n",
        "b = np.random.rand(d, d)\n",
        "\n",
        "start_time = time.time()\n",
        "c = a.dot(b)\n",
        "print(\"---Time taken by numpy execution is: %s seconds ---\" % (time.time() - start_time))"
      ]
    },
    {
      "cell_type": "code",
      "execution_count": null,
      "metadata": {
        "id": "G0ECAw2u0cQq",
        "outputId": "17e4f56e-6805-4a17-e9a3-b555331e749c"
      },
      "outputs": [
        {
          "name": "stdout",
          "output_type": "stream",
          "text": [
            "---Time taken by tensor execution is: 0.00030922889709472656 seconds ---\n"
          ]
        }
      ],
      "source": [
        "a = torch.rand(d,d).cuda()\n",
        "b = torch.rand(d,d).cuda()\n",
        "\n",
        "start_time = time.time()\n",
        "c = torch.mm(a,b)\n",
        "print(\"---Time taken by tensor execution is: %s seconds ---\" % (time.time() - start_time))"
      ]
    },
    {
      "cell_type": "markdown",
      "metadata": {
        "id": "K2LHJtDz0cQr"
      },
      "source": [
        "# Autograd: Automatic Differentiation"
      ]
    },
    {
      "cell_type": "markdown",
      "metadata": {
        "id": "GA3pdTgV0cQs"
      },
      "source": [
        "__*Gradients of scalar outputs*__"
      ]
    },
    {
      "cell_type": "code",
      "execution_count": null,
      "metadata": {
        "id": "29TytAqB0cQs",
        "outputId": "87bd043d-a470-46ce-a400-b08dd470d805"
      },
      "outputs": [
        {
          "name": "stdout",
          "output_type": "stream",
          "text": [
            "tensor([[1., 1.],\n",
            "        [1., 1.]], requires_grad=True)\n",
            "tensor([[3., 3.],\n",
            "        [3., 3.]], grad_fn=<AddBackward0>)\n"
          ]
        }
      ],
      "source": [
        "x = torch.ones(2, 2, requires_grad=True)\n",
        "print(x)\n",
        "y = x + 2\n",
        "print(y)"
      ]
    },
    {
      "cell_type": "code",
      "execution_count": null,
      "metadata": {
        "id": "xe9-M48D0cQt",
        "outputId": "eacba8c8-90e6-450d-c179-6eecbe331958"
      },
      "outputs": [
        {
          "name": "stdout",
          "output_type": "stream",
          "text": [
            "tensor([[27., 27.],\n",
            "        [27., 27.]], grad_fn=<MulBackward0>)\n",
            "tensor(27., grad_fn=<MeanBackward0>)\n"
          ]
        }
      ],
      "source": [
        "z = y * y * 3\n",
        "print(z)\n",
        "ans = z.mean()\n",
        "print(ans)"
      ]
    },
    {
      "cell_type": "code",
      "execution_count": null,
      "metadata": {
        "id": "5isAa4TZ0cQv",
        "outputId": "7510818f-c880-44d9-8423-a6d5c0c609dd"
      },
      "outputs": [
        {
          "name": "stdout",
          "output_type": "stream",
          "text": [
            "tensor([[4.5000, 4.5000],\n",
            "        [4.5000, 4.5000]])\n"
          ]
        }
      ],
      "source": [
        "ans.backward()\n",
        "print(x.grad)"
      ]
    },
    {
      "cell_type": "markdown",
      "metadata": {
        "id": "apzziuKp0cQw"
      },
      "source": [
        "__*Getting the gradients at intermediate nodes*__"
      ]
    },
    {
      "cell_type": "code",
      "execution_count": null,
      "metadata": {
        "id": "UskmEULs0cQw",
        "outputId": "cafd142d-aecc-48fe-faeb-4a4d753a6a8a"
      },
      "outputs": [
        {
          "name": "stdout",
          "output_type": "stream",
          "text": [
            "tensor([24.])\n"
          ]
        }
      ],
      "source": [
        "x = torch.Tensor([4])\n",
        "x.requires_grad = True\n",
        "y = 3*x\n",
        "z = y**2  \n",
        "\n",
        "y.register_hook(print)\n",
        "z.backward()\n"
      ]
    },
    {
      "cell_type": "markdown",
      "metadata": {
        "id": "7RxwSUsG0cQy"
      },
      "source": [
        "__*Gradients of non-scalar outputs : Vector-Jacobian Product*__"
      ]
    },
    {
      "cell_type": "code",
      "execution_count": null,
      "metadata": {
        "id": "g75Uf8RK0cQy"
      },
      "outputs": [],
      "source": [
        "t = torch.tensor([0.0, 2.0, 8.0], requires_grad=True)\n",
        "s = torch.tensor([5.0, 1.0, 7.0], requires_grad=True)\n",
        "c = t * s\n",
        "c.backward(torch.ones(3))"
      ]
    },
    {
      "cell_type": "code",
      "execution_count": null,
      "metadata": {
        "id": "wZhV9eUg0cQ0",
        "outputId": "66f78442-2782-4313-b554-ac15d25ef82a"
      },
      "outputs": [
        {
          "name": "stdout",
          "output_type": "stream",
          "text": [
            "tensor([0., 2., 8.])\n"
          ]
        }
      ],
      "source": [
        "print(s.grad)"
      ]
    },
    {
      "cell_type": "code",
      "execution_count": null,
      "metadata": {
        "id": "LkO0Aw0l0cQ1",
        "outputId": "4bd460e0-2142-4bda-8141-986a59e30095"
      },
      "outputs": [
        {
          "name": "stdout",
          "output_type": "stream",
          "text": [
            "tensor([5., 1., 7.])\n"
          ]
        }
      ],
      "source": [
        "print(t.grad)"
      ]
    },
    {
      "cell_type": "markdown",
      "metadata": {
        "id": "TJbCWIJv0cQ2"
      },
      "source": [
        "__*Wrapping the code block with : torch.no_grad()*__"
      ]
    },
    {
      "cell_type": "code",
      "execution_count": null,
      "metadata": {
        "id": "Kz8AHNVU0cQ4",
        "outputId": "414bdff4-4783-4d8a-a150-ee5b73f897c0"
      },
      "outputs": [
        {
          "name": "stdout",
          "output_type": "stream",
          "text": [
            "True\n",
            "True\n",
            "False\n"
          ]
        }
      ],
      "source": [
        "print(x.requires_grad)\n",
        "print((x ** 2).requires_grad)\n",
        "\n",
        "with torch.no_grad():\n",
        "    print((x ** 2).requires_grad)"
      ]
    },
    {
      "cell_type": "markdown",
      "metadata": {
        "id": "QBZ6h8b10cQ5"
      },
      "source": [
        "# Basic Neural Network with PyTorch"
      ]
    },
    {
      "cell_type": "markdown",
      "metadata": {
        "id": "xXQeubfO0cQ6"
      },
      "source": [
        "__*Import necessary packages*__"
      ]
    },
    {
      "cell_type": "code",
      "execution_count": null,
      "metadata": {
        "id": "hVXAkN_r0cQ6"
      },
      "outputs": [],
      "source": [
        "import torch\n",
        "import torch.nn as nn\n",
        "import torch.nn.functional as F"
      ]
    },
    {
      "cell_type": "markdown",
      "metadata": {
        "id": "-hqNS-sC0cQ9"
      },
      "source": [
        "__*Define the network*__"
      ]
    },
    {
      "cell_type": "code",
      "execution_count": null,
      "metadata": {
        "id": "qWsaIA1M0cQ-"
      },
      "outputs": [],
      "source": [
        "class Net(nn.Module):\n",
        "\n",
        "    def __init__(self):\n",
        "        super(Net, self).__init__()\n",
        "        self.conv1 = nn.Conv2d(1, 6, 5)\n",
        "        self.conv2 = nn.Conv2d(6, 16, 5)\n",
        "        self.fc1 = nn.Linear(16 * 5 * 5, 120)  \n",
        "        self.fc2 = nn.Linear(120, 84)\n",
        "        self.fc3 = nn.Linear(84, 10)\n",
        "\n",
        "    def forward(self, x):\n",
        "        # Max pooling over a (2, 2) window\n",
        "        x = F.max_pool2d(F.relu(self.conv1(x)), (2, 2))\n",
        "        # If the size is a square you can only specify a single number\n",
        "        x = F.max_pool2d(F.relu(self.conv2(x)), 2)\n",
        "        x = x.view(-1, self.num_flat_features(x))\n",
        "        x = F.relu(self.fc1(x))\n",
        "        x = F.relu(self.fc2(x))\n",
        "        x = self.fc3(x)\n",
        "        return x\n",
        "\n",
        "    def num_flat_features(self, x):\n",
        "        size = x.size()[1:]  # all dimensions except the batch dimension\n",
        "        num_features = 1\n",
        "        for s in size:\n",
        "            num_features *= s\n",
        "        return num_features\n"
      ]
    },
    {
      "cell_type": "markdown",
      "metadata": {
        "id": "NRTbpzXD0cRA"
      },
      "source": [
        "__*Invoke the network*__"
      ]
    },
    {
      "cell_type": "code",
      "execution_count": null,
      "metadata": {
        "id": "_MXRmtvA0cRA",
        "outputId": "1ed6fb1d-c666-40ac-a33b-336e3d7b1ade"
      },
      "outputs": [
        {
          "name": "stdout",
          "output_type": "stream",
          "text": [
            "Net(\n",
            "  (conv1): Conv2d(1, 6, kernel_size=(5, 5), stride=(1, 1))\n",
            "  (conv2): Conv2d(6, 16, kernel_size=(5, 5), stride=(1, 1))\n",
            "  (fc1): Linear(in_features=400, out_features=120, bias=True)\n",
            "  (fc2): Linear(in_features=120, out_features=84, bias=True)\n",
            "  (fc3): Linear(in_features=84, out_features=10, bias=True)\n",
            ")\n"
          ]
        }
      ],
      "source": [
        "net = Net()\n",
        "print(net)"
      ]
    },
    {
      "cell_type": "markdown",
      "metadata": {
        "id": "yeVNY-Bf0cRB"
      },
      "source": [
        "__*Get the list of parameters*__"
      ]
    },
    {
      "cell_type": "code",
      "execution_count": null,
      "metadata": {
        "id": "4BMyxTKK0cRB",
        "outputId": "4f773868-30bb-4a41-a7b6-cde51274e6cd"
      },
      "outputs": [
        {
          "name": "stdout",
          "output_type": "stream",
          "text": [
            "--- Length of the list containing parameters is: 10 --- \n",
            "torch.Size([6, 1, 5, 5])\n",
            "torch.Size([6])\n",
            "torch.Size([16, 6, 5, 5])\n",
            "torch.Size([16])\n",
            "torch.Size([120, 400])\n",
            "torch.Size([120])\n",
            "torch.Size([84, 120])\n",
            "torch.Size([84])\n",
            "torch.Size([10, 84])\n",
            "torch.Size([10])\n"
          ]
        }
      ],
      "source": [
        "params = list(net.parameters())\n",
        "print(\"--- Length of the list containing parameters is: %s --- \" %len(params))\n",
        "\n",
        "for i in range (0,len(params)):\n",
        "    print(params[i].size())"
      ]
    },
    {
      "cell_type": "markdown",
      "metadata": {
        "id": "bRl9ealR0cRC"
      },
      "source": [
        "__*Forward Pass through the network*__"
      ]
    },
    {
      "cell_type": "code",
      "execution_count": null,
      "metadata": {
        "id": "Bmkzmrcu0cRD",
        "outputId": "5aeada41-9f39-4195-a3ba-0eebcf854636"
      },
      "outputs": [
        {
          "name": "stdout",
          "output_type": "stream",
          "text": [
            "tensor([[-0.1327,  0.1458,  0.0569, -0.0196,  0.0624,  0.2094,  0.0081,  0.1785,\n",
            "          0.1160,  0.1326]], grad_fn=<AddmmBackward>)\n"
          ]
        }
      ],
      "source": [
        "input = torch.randn(1, 1, 32, 32)\n",
        "out = net(input)\n",
        "print(out)"
      ]
    },
    {
      "cell_type": "markdown",
      "metadata": {
        "id": "ZOBCGrPg0cRD"
      },
      "source": [
        "__*Backward Pass down the network*__"
      ]
    },
    {
      "cell_type": "code",
      "execution_count": null,
      "metadata": {
        "id": "jg2OM0sy0cRE"
      },
      "outputs": [],
      "source": [
        "net.zero_grad()\n",
        "\n",
        "out.backward(torch.randn(1, 10))"
      ]
    },
    {
      "cell_type": "markdown",
      "metadata": {
        "id": "gaLTNK5u0cRE"
      },
      "source": [
        "__*Defining Loss function*__"
      ]
    },
    {
      "cell_type": "code",
      "execution_count": null,
      "metadata": {
        "id": "DUkGXHMy0cRF",
        "outputId": "b40a336a-bacd-48c2-fd66-43736e813f03"
      },
      "outputs": [
        {
          "name": "stdout",
          "output_type": "stream",
          "text": [
            "tensor(0.7615, grad_fn=<MseLossBackward>)\n"
          ]
        }
      ],
      "source": [
        "output = net(input)\n",
        "target = torch.randn(10)  \n",
        "target = target.view(1, -1)  \n",
        "criterion = nn.MSELoss()\n",
        "\n",
        "loss = criterion(output, target)\n",
        "print(loss)\n"
      ]
    },
    {
      "cell_type": "markdown",
      "metadata": {
        "id": "Dxw4w60z0cRV"
      },
      "source": [
        "__*Effect of zeroing-out the accumulated gradients*__"
      ]
    },
    {
      "cell_type": "code",
      "execution_count": null,
      "metadata": {
        "id": "jTlhClEm0cRW",
        "outputId": "f508e327-6ebb-4690-e107-b097dcf6c1f9"
      },
      "outputs": [
        {
          "name": "stdout",
          "output_type": "stream",
          "text": [
            "conv1.bias.grad before backward\n",
            "tensor([0., 0., 0., 0., 0., 0.])\n",
            "conv1.bias.grad after backward\n",
            "tensor([-0.0169, -0.0101, -0.0228,  0.0100, -0.0191, -0.0052])\n"
          ]
        }
      ],
      "source": [
        "net.zero_grad()    \n",
        "print('conv1.bias.grad before backward')\n",
        "print(net.conv1.bias.grad)\n",
        "\n",
        "loss.backward()\n",
        "\n",
        "print('conv1.bias.grad after backward')\n",
        "print(net.conv1.bias.grad)"
      ]
    },
    {
      "cell_type": "markdown",
      "metadata": {
        "id": "CRQcMYUT0cRX"
      },
      "source": [
        "__*Defining optimizer for weight updates*__"
      ]
    },
    {
      "cell_type": "code",
      "execution_count": null,
      "metadata": {
        "id": "9GG0bIt40cRX"
      },
      "outputs": [],
      "source": [
        "import torch.optim as optim\n",
        "\n",
        "optimizer = optim.SGD(net.parameters(), lr=0.01)\n",
        "\n",
        "# inside the training loop:\n",
        "optimizer.zero_grad()   # zero the gradient buffers\n",
        "output = net(input)\n",
        "loss = criterion(output, target)\n",
        "loss.backward()\n",
        "optimizer.step()    # Does the update"
      ]
    },
    {
      "cell_type": "markdown",
      "metadata": {
        "id": "Rsxvsvs_0cRY"
      },
      "source": [
        "# Image Classification Task"
      ]
    },
    {
      "cell_type": "markdown",
      "metadata": {
        "id": "RVMOpXcU0cRY"
      },
      "source": [
        "__*Import necessary packages*__"
      ]
    },
    {
      "cell_type": "code",
      "execution_count": null,
      "metadata": {
        "id": "BYfNDCpN0cRZ"
      },
      "outputs": [],
      "source": [
        "import torch\n",
        "import torchvision\n",
        "import torchvision.transforms as transforms"
      ]
    },
    {
      "cell_type": "markdown",
      "metadata": {
        "id": "n-eKTudC0cRa"
      },
      "source": [
        "__*Download and load the dataset*__"
      ]
    },
    {
      "cell_type": "code",
      "execution_count": null,
      "metadata": {
        "id": "a02gXPhY0cRa",
        "outputId": "ee20159e-8361-442c-af3c-dc29ee320f93"
      },
      "outputs": [
        {
          "name": "stdout",
          "output_type": "stream",
          "text": [
            "Files already downloaded and verified\n",
            "Files already downloaded and verified\n"
          ]
        }
      ],
      "source": [
        "transform = transforms.Compose([transforms.ToTensor(),\n",
        "                               transforms.Normalize((0.5, 0.5, 0.5), (0.5, 0.5, 0.5))])\n",
        "\n",
        "trainset = torchvision.datasets.CIFAR10(root='./data', train=True,\n",
        "                                        download=True, transform=transform)\n",
        "\n",
        "trainloader = torch.utils.data.DataLoader(trainset, batch_size=4,\n",
        "                                          shuffle=True, num_workers=2)\n",
        "\n",
        "testset = torchvision.datasets.CIFAR10(root='./data', train=False,\n",
        "                                       download=True, transform=transform)\n",
        "\n",
        "testloader = torch.utils.data.DataLoader(testset, batch_size=4,\n",
        "                                         shuffle=False, num_workers=2)\n",
        "\n",
        "classes = ('plane', 'car', 'bird', 'cat', 'deer', 'dog', 'frog', 'horse', 'ship', 'truck')"
      ]
    },
    {
      "cell_type": "markdown",
      "metadata": {
        "id": "auDPZo9b0cRb"
      },
      "source": [
        "__*Display few images*__"
      ]
    },
    {
      "cell_type": "code",
      "execution_count": null,
      "metadata": {
        "id": "hxZJQOfw0cRb",
        "outputId": "3d17bc09-bb38-4b45-fa05-5b1ddc7a26de"
      },
      "outputs": [
        {
          "data": {
            "image/png": "[encoded data removed]",
            "text/plain": [
              "<Figure size 432x288 with 1 Axes>"
            ]
          },
          "metadata": {
            "needs_background": "light"
          },
          "output_type": "display_data"
        },
        {
          "name": "stdout",
          "output_type": "stream",
          "text": [
            "Image labels:\n",
            "deer horse horse dog\n"
          ]
        }
      ],
      "source": [
        "import matplotlib.pyplot as plt\n",
        "import numpy as np\n",
        "%matplotlib inline\n",
        "# functions to show an image\n",
        "\n",
        "\n",
        "def imshow(img):\n",
        "    img = img / 2 + 0.5     # unnormalize\n",
        "    npimg = img.numpy()\n",
        "    plt.imshow(np.transpose(npimg, (1, 2, 0)))\n",
        "    plt.show()\n",
        "\n",
        "\n",
        "# get some random training images\n",
        "dataiter = iter(trainloader)\n",
        "images, labels = dataiter.next()\n",
        "\n",
        "# show images\n",
        "imshow(torchvision.utils.make_grid(images))\n",
        "\n",
        "# print labels\n",
        "print(\"Image labels:\")\n",
        "print(' '.join('%s' % classes[labels[j]] for j in range(4)))\n"
      ]
    },
    {
      "cell_type": "markdown",
      "metadata": {
        "id": "5YHNZJAB0cRc"
      },
      "source": [
        "__*Define the network*__"
      ]
    },
    {
      "cell_type": "code",
      "execution_count": null,
      "metadata": {
        "id": "-g-WGY_h0cRc",
        "outputId": "c94aa395-5194-4cf9-c53b-0d12f7efd58b"
      },
      "outputs": [
        {
          "name": "stdout",
          "output_type": "stream",
          "text": [
            "Net(\n",
            "  (conv1): Conv2d(3, 6, kernel_size=(5, 5), stride=(1, 1))\n",
            "  (pool): MaxPool2d(kernel_size=2, stride=2, padding=0, dilation=1, ceil_mode=False)\n",
            "  (conv2): Conv2d(6, 16, kernel_size=(5, 5), stride=(1, 1))\n",
            "  (fc1): Linear(in_features=400, out_features=120, bias=True)\n",
            "  (fc2): Linear(in_features=120, out_features=84, bias=True)\n",
            "  (fc3): Linear(in_features=84, out_features=10, bias=True)\n",
            ")\n"
          ]
        }
      ],
      "source": [
        "import torch.nn as nn\n",
        "import torch.nn.functional as F\n",
        "\n",
        "\n",
        "class Net(nn.Module):\n",
        "    def __init__(self):\n",
        "        super(Net, self).__init__()\n",
        "        self.conv1 = nn.Conv2d(3, 6, 5)\n",
        "        self.pool = nn.MaxPool2d(2, 2)\n",
        "        self.conv2 = nn.Conv2d(6, 16, 5)\n",
        "        self.fc1 = nn.Linear(16 * 5 * 5, 120)\n",
        "        self.fc2 = nn.Linear(120, 84)\n",
        "        self.fc3 = nn.Linear(84, 10)\n",
        "\n",
        "    def forward(self, x):\n",
        "        x = self.pool(F.relu(self.conv1(x)))\n",
        "        x = self.pool(F.relu(self.conv2(x)))\n",
        "        x = x.view(-1, 16 * 5 * 5)\n",
        "        x = F.relu(self.fc1(x))\n",
        "        x = F.relu(self.fc2(x))\n",
        "        x = self.fc3(x)\n",
        "        return x\n",
        "\n",
        "\n",
        "net = Net()\n",
        "net.cuda()\n",
        "print(net)"
      ]
    },
    {
      "cell_type": "markdown",
      "metadata": {
        "id": "bY0MVLE80cRd"
      },
      "source": [
        "__*Define the loss function and optimizer*__"
      ]
    },
    {
      "cell_type": "code",
      "execution_count": null,
      "metadata": {
        "id": "6Bs6sYxC0cRe"
      },
      "outputs": [],
      "source": [
        "import torch.optim as optim\n",
        "\n",
        "criterion = nn.CrossEntropyLoss()\n",
        "optimizer = optim.SGD(net.parameters(), lr=0.001, momentum=0.9)\n"
      ]
    },
    {
      "cell_type": "markdown",
      "metadata": {
        "id": "r7hzjcGx0cRe"
      },
      "source": [
        "__*Train the network*__"
      ]
    },
    {
      "cell_type": "code",
      "execution_count": null,
      "metadata": {
        "id": "mLFefILg0cRe",
        "outputId": "3cbb7ee1-02d0-4488-cfe1-ae9b4637b211"
      },
      "outputs": [
        {
          "name": "stdout",
          "output_type": "stream",
          "text": [
            "[1,  2000] loss: 2.212\n",
            "[1,  4000] loss: 1.906\n",
            "[1,  6000] loss: 1.688\n",
            "[1,  8000] loss: 1.562\n",
            "[1, 10000] loss: 1.518\n",
            "[1, 12000] loss: 1.443\n",
            "[2,  2000] loss: 1.392\n",
            "[2,  4000] loss: 1.372\n",
            "[2,  6000] loss: 1.340\n",
            "[2,  8000] loss: 1.316\n",
            "[2, 10000] loss: 1.300\n",
            "[2, 12000] loss: 1.272\n",
            "Finished Training\n"
          ]
        }
      ],
      "source": [
        "for epoch in range(2):  # loop over the dataset multiple times\n",
        "\n",
        "    running_loss = 0.0\n",
        "    for i, data in enumerate(trainloader, 0):\n",
        "        \n",
        "        # get the inputs; data is a list of [inputs, labels]\n",
        "        inputs, labels = data[0].cuda(), data[1].cuda()\n",
        "\n",
        "        # zero the parameter gradients\n",
        "        optimizer.zero_grad()\n",
        "\n",
        "        # forward + backward + optimize\n",
        "        outputs = net(inputs)\n",
        "        loss = criterion(outputs, labels)\n",
        "        loss.backward()\n",
        "        optimizer.step()\n",
        "\n",
        "        # print statistics\n",
        "        running_loss += loss.item()\n",
        "        if i % 2000 == 1999:    # print every 2000 mini-batches\n",
        "            print('[%d, %5d] loss: %.3f' %\n",
        "                  (epoch + 1, i + 1, running_loss / 2000))\n",
        "            running_loss = 0.0\n",
        "\n",
        "print('Finished Training')"
      ]
    },
    {
      "cell_type": "markdown",
      "metadata": {
        "id": "Uf8QPYCp0cRf"
      },
      "source": [
        "__*Save the trained model*__"
      ]
    },
    {
      "cell_type": "code",
      "execution_count": null,
      "metadata": {
        "id": "RAfmzy--0cRf"
      },
      "outputs": [],
      "source": [
        "PATH = './cifar_net.pth'\n",
        "torch.save(net.state_dict(), PATH)"
      ]
    },
    {
      "cell_type": "markdown",
      "metadata": {
        "id": "fG1K1wiB0cRf"
      },
      "source": [
        "__*Display the images of test set*__"
      ]
    },
    {
      "cell_type": "code",
      "execution_count": null,
      "metadata": {
        "id": "1341mfOi0cRg",
        "outputId": "b91b0f99-99ee-4825-9e9b-99932a0571b4"
      },
      "outputs": [
        {
          "data": {
            "image/png": "[encoded data removed]",
            "text/plain": [
              "<Figure size 432x288 with 1 Axes>"
            ]
          },
          "metadata": {
            "needs_background": "light"
          },
          "output_type": "display_data"
        },
        {
          "name": "stdout",
          "output_type": "stream",
          "text": [
            "GroundTruth:    cat  ship  ship plane\n"
          ]
        }
      ],
      "source": [
        "dataiter = iter(testloader)\n",
        "images, labels = dataiter.next()\n",
        "\n",
        "imshow(torchvision.utils.make_grid(images))\n",
        "print('GroundTruth: ', ' '.join('%5s' % classes[labels[j]] for j in range(4)))\n"
      ]
    },
    {
      "cell_type": "markdown",
      "metadata": {
        "id": "QCZT06Ui0cRg"
      },
      "source": [
        "__*Load the trained model*__"
      ]
    },
    {
      "cell_type": "code",
      "execution_count": null,
      "metadata": {
        "id": "cOpIpxzv0cRg",
        "outputId": "50784426-0be6-4408-84e6-2c07d25d11f5"
      },
      "outputs": [
        {
          "data": {
            "text/plain": [
              "<All keys matched successfully>"
            ]
          },
          "execution_count": 51,
          "metadata": {},
          "output_type": "execute_result"
        }
      ],
      "source": [
        "net = Net()\n",
        "net.load_state_dict(torch.load(PATH))"
      ]
    },
    {
      "cell_type": "markdown",
      "metadata": {
        "id": "ZBsgXlVC0cRh"
      },
      "source": [
        "__*Test the predictions on few images*__"
      ]
    },
    {
      "cell_type": "code",
      "execution_count": null,
      "metadata": {
        "id": "fpF5tkXQ0cRh",
        "outputId": "ebe8299b-1b47-47a6-8528-37b1d6757adc"
      },
      "outputs": [
        {
          "name": "stdout",
          "output_type": "stream",
          "text": [
            "Predicted:    cat  ship  ship plane\n"
          ]
        }
      ],
      "source": [
        "outputs = net(images)\n",
        "\n",
        "_, predicted = torch.max(outputs, 1)\n",
        "\n",
        "print('Predicted: ', ' '.join('%5s' % classes[predicted[j]]\n",
        "                              for j in range(4)))\n"
      ]
    },
    {
      "cell_type": "markdown",
      "metadata": {
        "id": "IoFx51wz0cRh"
      },
      "source": [
        "__*Testing on the entire dataset*__"
      ]
    },
    {
      "cell_type": "code",
      "execution_count": null,
      "metadata": {
        "id": "qz5MZh7h0cRh",
        "outputId": "f63df6cc-5bac-489e-e6af-5214a4813536"
      },
      "outputs": [
        {
          "name": "stdout",
          "output_type": "stream",
          "text": [
            "Accuracy of the network on the 10000 test images: 55 %\n"
          ]
        }
      ],
      "source": [
        "correct = 0\n",
        "total = 0\n",
        "\n",
        "with torch.no_grad():\n",
        "    for data in testloader:\n",
        "        images, labels = data\n",
        "        outputs = net(images)\n",
        "        _, predicted = torch.max(outputs.data, 1)\n",
        "        total += labels.size(0)\n",
        "        correct += (predicted == labels).sum().item()\n",
        "\n",
        "print('Accuracy of the network on the 10000 test images: %d %%' % (\n",
        "    100 * correct / total))"
      ]
    },
    {
      "cell_type": "markdown",
      "metadata": {
        "id": "5PMX9g5n0cRi"
      },
      "source": [
        "__*Per-class analysis*__"
      ]
    },
    {
      "cell_type": "code",
      "execution_count": null,
      "metadata": {
        "id": "DD-JD9_r0cRi",
        "outputId": "719f1244-a9c1-4831-e1af-b59bf8272a81"
      },
      "outputs": [
        {
          "name": "stdout",
          "output_type": "stream",
          "text": [
            "Accuracy of plane : 59 %\n",
            "Accuracy of   car : 64 %\n",
            "Accuracy of  bird : 47 %\n",
            "Accuracy of   cat : 18 %\n",
            "Accuracy of  deer : 34 %\n",
            "Accuracy of   dog : 62 %\n",
            "Accuracy of  frog : 70 %\n",
            "Accuracy of horse : 61 %\n",
            "Accuracy of  ship : 70 %\n",
            "Accuracy of truck : 66 %\n"
          ]
        }
      ],
      "source": [
        "class_correct = list(0. for i in range(10))\n",
        "class_total = list(0. for i in range(10))\n",
        "with torch.no_grad():\n",
        "    for data in testloader:\n",
        "        images, labels = data\n",
        "        outputs = net(images)\n",
        "        _, predicted = torch.max(outputs, 1)\n",
        "        c = (predicted == labels).squeeze()\n",
        "        for i in range(4):\n",
        "            label = labels[i]\n",
        "            class_correct[label] += c[i].item()\n",
        "            class_total[label] += 1\n",
        "\n",
        "\n",
        "for i in range(10):\n",
        "    print('Accuracy of %5s : %2d %%' % (\n",
        "        classes[i], 100 * class_correct[i] / class_total[i]))\n"
      ]
    },
    {
      "cell_type": "markdown",
      "metadata": {
        "id": "2p2tPW0l0cRj"
      },
      "source": [
        "# Transfer Learning for Computer Vision"
      ]
    },
    {
      "cell_type": "markdown",
      "metadata": {
        "id": "wCFTL_Yn0cRj"
      },
      "source": [
        "__*Import necessary packages*__"
      ]
    },
    {
      "cell_type": "code",
      "execution_count": null,
      "metadata": {
        "id": "0JQo4MjN0cRk"
      },
      "outputs": [],
      "source": [
        "from __future__ import print_function, division\n",
        "\n",
        "import torch\n",
        "import torch.nn as nn\n",
        "import torch.optim as optim\n",
        "from torch.optim import lr_scheduler\n",
        "import numpy as np\n",
        "import torchvision\n",
        "from torchvision import datasets, models, transforms\n",
        "import matplotlib.pyplot as plt\n",
        "import time\n",
        "import os\n",
        "import copy\n",
        "\n",
        "plt.ion() "
      ]
    },
    {
      "cell_type": "markdown",
      "metadata": {
        "id": "bdR3itwS0cRl"
      },
      "source": [
        "__*Load and tranform the dataset*__"
      ]
    },
    {
      "cell_type": "code",
      "execution_count": null,
      "metadata": {
        "id": "o-Uo71uf0cRl"
      },
      "outputs": [],
      "source": [
        "data_transforms = {\n",
        "    'train': transforms.Compose([\n",
        "        transforms.RandomResizedCrop(224),\n",
        "        transforms.RandomHorizontalFlip(),\n",
        "        transforms.ToTensor(),\n",
        "        transforms.Normalize([0.485, 0.456, 0.406], [0.229, 0.224, 0.225])\n",
        "    ]),\n",
        "    'val': transforms.Compose([\n",
        "        transforms.Resize(256),\n",
        "        transforms.CenterCrop(224),\n",
        "        transforms.ToTensor(),\n",
        "        transforms.Normalize([0.485, 0.456, 0.406], [0.229, 0.224, 0.225])\n",
        "    ]),\n",
        "}\n",
        "\n",
        "data_dir = 'hymenoptera_data'\n",
        "\n",
        "image_datasets = {x: datasets.ImageFolder(os.path.join(data_dir, x),\n",
        "                                          data_transforms[x])\n",
        "                 for x in ['train', 'val']}\n",
        "dataloaders = {x: torch.utils.data.DataLoader(image_datasets[x], batch_size=4,\n",
        "                                             shuffle=True, num_workers=4)\n",
        "               for x in ['train', 'val']}\n",
        "\n",
        "dataset_sizes = {x: len(image_datasets[x]) for x in ['train', 'val']}\n",
        "class_names = image_datasets['train'].classes\n",
        "\n",
        "device = torch.device(\"cuda:0\" if torch.cuda.is_available() else \"cpu\")\n"
      ]
    },
    {
      "cell_type": "markdown",
      "metadata": {
        "id": "tAEI-xmX0cRm"
      },
      "source": [
        "__*Visualise few images*__"
      ]
    },
    {
      "cell_type": "code",
      "execution_count": null,
      "metadata": {
        "id": "lbH1KIR60cRn",
        "outputId": "4baa7b2e-a5bf-4be2-e59a-0270f0d4a441"
      },
      "outputs": [
        {
          "data": {
            "image/png": "[encoded data removed]",
            "text/plain": [
              "<Figure size 432x288 with 1 Axes>"
            ]
          },
          "metadata": {
            "needs_background": "light"
          },
          "output_type": "display_data"
        }
      ],
      "source": [
        "def imshow(inp, title=None):\n",
        "    \"\"\"Imshow for Tensor.\"\"\"\n",
        "    inp = inp.numpy().transpose((1, 2, 0))\n",
        "    mean = np.array([0.485, 0.456, 0.406])\n",
        "    std = np.array([0.229, 0.224, 0.225])\n",
        "    inp = std * inp + mean\n",
        "    inp = np.clip(inp, 0, 1)\n",
        "    plt.imshow(inp)\n",
        "    if title is not None:\n",
        "        plt.title(title)\n",
        "    plt.pause(0.001)  # pause a bit so that plots are updated\n",
        "\n",
        "\n",
        "# Get a batch of training data\n",
        "inputs, classes = next(iter(dataloaders['train']))\n",
        "\n",
        "# Make a grid from batch\n",
        "out = torchvision.utils.make_grid(inputs)\n",
        "\n",
        "imshow(out, title=[class_names[x] for x in classes])"
      ]
    },
    {
      "cell_type": "markdown",
      "metadata": {
        "id": "BKy4axHs0cRp"
      },
      "source": [
        "__*Function to train the model*__"
      ]
    },
    {
      "cell_type": "code",
      "execution_count": null,
      "metadata": {
        "id": "VqkTquYL0cRp"
      },
      "outputs": [],
      "source": [
        "def train_model(model, criterion, optimizer, scheduler, num_epochs=25):\n",
        "    since = time.time()\n",
        "\n",
        "    best_model_wts = copy.deepcopy(model.state_dict())\n",
        "    best_acc = 0.0\n",
        "\n",
        "    for epoch in range(num_epochs):\n",
        "        print('Epoch {}/{}'.format(epoch, num_epochs - 1))\n",
        "        print('-' * 10)\n",
        "\n",
        "        # Each epoch has a training and validation phase\n",
        "        for phase in ['train', 'val']:\n",
        "            if phase == 'train':\n",
        "                model.train()  # Set model to training mode\n",
        "            else:\n",
        "                model.eval()   # Set model to evaluate mode\n",
        "\n",
        "            running_loss = 0.0\n",
        "            running_corrects = 0\n",
        "\n",
        "            # Iterate over data.\n",
        "            for inputs, labels in dataloaders[phase]:\n",
        "                inputs = inputs.to(device)\n",
        "                labels = labels.to(device)\n",
        "\n",
        "                # zero the parameter gradients\n",
        "                optimizer.zero_grad()\n",
        "\n",
        "                # forward\n",
        "                # track history if only in train\n",
        "                with torch.set_grad_enabled(phase == 'train'):\n",
        "                    outputs = model(inputs)\n",
        "                    _, preds = torch.max(outputs, 1)\n",
        "                    loss = criterion(outputs, labels)\n",
        "\n",
        "                    # backward + optimize only if in training phase\n",
        "                    if phase == 'train':\n",
        "                        loss.backward()\n",
        "                        optimizer.step()\n",
        "\n",
        "                # statistics\n",
        "                running_loss += loss.item() * inputs.size(0)\n",
        "                running_corrects += torch.sum(preds == labels.data)\n",
        "            \n",
        "            if phase == 'train':\n",
        "                scheduler.step()\n",
        "\n",
        "            epoch_loss = running_loss / dataset_sizes[phase]\n",
        "            epoch_acc = running_corrects.double() / dataset_sizes[phase]\n",
        "\n",
        "            print('{} Loss: {:.4f} Acc: {:.4f}'.format(\n",
        "                phase, epoch_loss, epoch_acc))\n",
        "\n",
        "            # deep copy the model\n",
        "            if phase == 'val' and epoch_acc > best_acc:\n",
        "                best_acc = epoch_acc\n",
        "                best_model_wts = copy.deepcopy(model.state_dict())\n",
        "\n",
        "        print()\n",
        "\n",
        "    time_elapsed = time.time() - since\n",
        "    print('Training complete in {:.0f}m {:.0f}s'.format(\n",
        "        time_elapsed // 60, time_elapsed % 60))\n",
        "    print('Best val Acc: {:4f}'.format(best_acc))\n",
        "\n",
        "    # load best model weights\n",
        "    model.load_state_dict(best_model_wts)\n",
        "    return model"
      ]
    },
    {
      "cell_type": "markdown",
      "metadata": {
        "id": "ZIFDLLmi0cRq"
      },
      "source": [
        "__*Function to visualise the results*__"
      ]
    },
    {
      "cell_type": "code",
      "execution_count": null,
      "metadata": {
        "id": "cETn9T-N0cRq"
      },
      "outputs": [],
      "source": [
        "def visualize_model(model, num_images=6):\n",
        "    was_training = model.training\n",
        "    model.eval()\n",
        "    images_so_far = 0\n",
        "    fig = plt.figure()\n",
        "\n",
        "    with torch.no_grad():\n",
        "        for i, (inputs, labels) in enumerate(dataloaders['val']):\n",
        "            inputs = inputs.to(device)\n",
        "            labels = labels.to(device)\n",
        "\n",
        "            outputs = model(inputs)\n",
        "            _, preds = torch.max(outputs, 1)\n",
        "\n",
        "            for j in range(inputs.size()[0]):\n",
        "                images_so_far += 1\n",
        "                ax = plt.subplot(num_images//2, 2, images_so_far)\n",
        "                ax.axis('off')\n",
        "                ax.set_title('predicted: {}'.format(class_names[preds[j]]))\n",
        "                imshow(inputs.cpu().data[j])\n",
        "\n",
        "                if images_so_far == num_images:\n",
        "                    model.train(mode=was_training)\n",
        "                    return\n",
        "        model.train(mode=was_training)"
      ]
    },
    {
      "cell_type": "markdown",
      "metadata": {
        "id": "DhHxTaky0cRr"
      },
      "source": [
        "__1. Finetuning the trained model__"
      ]
    },
    {
      "cell_type": "code",
      "execution_count": null,
      "metadata": {
        "id": "OWkWHG_T0cRr"
      },
      "outputs": [],
      "source": [
        "model_ft = models.resnet18(pretrained=True)\n",
        "num_ftrs = model_ft.fc.in_features\n",
        "# Here the size of each output sample is set to 2.\n",
        "# Alternatively, it can be generalized to nn.Linear(num_ftrs, len(class_names)).\n",
        "model_ft.fc = nn.Linear(num_ftrs, 2)\n",
        "\n",
        "model_ft = model_ft.to(device)\n",
        "\n",
        "criterion = nn.CrossEntropyLoss()\n",
        "\n",
        "# Observe that all parameters are being optimized\n",
        "optimizer_ft = optim.SGD(model_ft.parameters(), lr=0.001, momentum=0.9)\n",
        "\n",
        "# Decay LR by a factor of 0.1 every 7 epochs\n",
        "exp_lr_scheduler = lr_scheduler.StepLR(optimizer_ft, step_size=7, gamma=0.1)\n"
      ]
    },
    {
      "cell_type": "markdown",
      "metadata": {
        "id": "6odLJJcX0cRr"
      },
      "source": [
        "__*Train and Evaluate*__"
      ]
    },
    {
      "cell_type": "code",
      "execution_count": null,
      "metadata": {
        "id": "W0YSYaGF0cRs",
        "outputId": "dc8eec23-6ae7-487a-e170-6929b42bd0a0"
      },
      "outputs": [
        {
          "name": "stdout",
          "output_type": "stream",
          "text": [
            "Epoch 0/24\n",
            "----------\n",
            "train Loss: 0.5391 Acc: 0.7336\n",
            "val Loss: 0.2066 Acc: 0.9085\n",
            "\n",
            "Epoch 1/24\n",
            "----------\n",
            "train Loss: 0.4431 Acc: 0.8115\n",
            "val Loss: 0.2116 Acc: 0.9216\n",
            "\n",
            "Epoch 2/24\n",
            "----------\n",
            "train Loss: 0.4367 Acc: 0.8402\n",
            "val Loss: 0.2753 Acc: 0.9020\n",
            "\n",
            "Epoch 3/24\n",
            "----------\n",
            "train Loss: 0.6423 Acc: 0.7582\n",
            "val Loss: 0.2988 Acc: 0.9020\n",
            "\n",
            "Epoch 4/24\n",
            "----------\n",
            "train Loss: 0.3841 Acc: 0.8320\n",
            "val Loss: 0.2621 Acc: 0.8824\n",
            "\n",
            "Epoch 5/24\n",
            "----------\n",
            "train Loss: 0.4425 Acc: 0.8115\n",
            "val Loss: 0.2442 Acc: 0.9216\n",
            "\n",
            "Epoch 6/24\n",
            "----------\n",
            "train Loss: 0.6912 Acc: 0.7828\n",
            "val Loss: 0.4296 Acc: 0.8758\n",
            "\n",
            "Epoch 7/24\n",
            "----------\n",
            "train Loss: 0.3797 Acc: 0.8320\n",
            "val Loss: 0.3303 Acc: 0.8889\n",
            "\n",
            "Epoch 8/24\n",
            "----------\n",
            "train Loss: 0.3270 Acc: 0.8730\n",
            "val Loss: 0.3091 Acc: 0.8954\n",
            "\n",
            "Epoch 9/24\n",
            "----------\n",
            "train Loss: 0.3978 Acc: 0.8320\n",
            "val Loss: 0.2713 Acc: 0.9020\n",
            "\n",
            "Epoch 10/24\n",
            "----------\n",
            "train Loss: 0.4011 Acc: 0.8361\n",
            "val Loss: 0.2787 Acc: 0.8954\n",
            "\n",
            "Epoch 11/24\n",
            "----------\n",
            "train Loss: 0.2026 Acc: 0.8975\n",
            "val Loss: 0.2803 Acc: 0.8954\n",
            "\n",
            "Epoch 12/24\n",
            "----------\n",
            "train Loss: 0.3630 Acc: 0.8238\n",
            "val Loss: 0.2478 Acc: 0.9020\n",
            "\n",
            "Epoch 13/24\n",
            "----------\n",
            "train Loss: 0.2977 Acc: 0.8689\n",
            "val Loss: 0.2636 Acc: 0.9085\n",
            "\n",
            "Epoch 14/24\n",
            "----------\n",
            "train Loss: 0.3034 Acc: 0.8648\n",
            "val Loss: 0.2491 Acc: 0.8889\n",
            "\n",
            "Epoch 15/24\n",
            "----------\n",
            "train Loss: 0.2613 Acc: 0.8689\n",
            "val Loss: 0.2578 Acc: 0.9085\n",
            "\n",
            "Epoch 16/24\n",
            "----------\n",
            "train Loss: 0.2822 Acc: 0.8852\n",
            "val Loss: 0.2286 Acc: 0.9020\n",
            "\n",
            "Epoch 17/24\n",
            "----------\n",
            "train Loss: 0.2497 Acc: 0.8811\n",
            "val Loss: 0.2483 Acc: 0.9020\n",
            "\n",
            "Epoch 18/24\n",
            "----------\n",
            "train Loss: 0.2375 Acc: 0.8975\n",
            "val Loss: 0.2346 Acc: 0.9020\n",
            "\n",
            "Epoch 19/24\n",
            "----------\n",
            "train Loss: 0.3118 Acc: 0.8566\n",
            "val Loss: 0.2307 Acc: 0.9085\n",
            "\n",
            "Epoch 20/24\n",
            "----------\n",
            "train Loss: 0.3034 Acc: 0.8730\n",
            "val Loss: 0.2394 Acc: 0.9085\n",
            "\n",
            "Epoch 21/24\n",
            "----------\n",
            "train Loss: 0.3268 Acc: 0.8689\n",
            "val Loss: 0.2796 Acc: 0.9085\n",
            "\n",
            "Epoch 22/24\n",
            "----------\n",
            "train Loss: 0.2053 Acc: 0.8975\n",
            "val Loss: 0.2553 Acc: 0.8954\n",
            "\n",
            "Epoch 23/24\n",
            "----------\n",
            "train Loss: 0.2992 Acc: 0.8689\n",
            "val Loss: 0.2469 Acc: 0.8954\n",
            "\n",
            "Epoch 24/24\n",
            "----------\n",
            "train Loss: 0.2107 Acc: 0.9139\n",
            "val Loss: 0.2350 Acc: 0.9085\n",
            "\n",
            "Training complete in 12m 8s\n",
            "Best val Acc: 0.921569\n"
          ]
        }
      ],
      "source": [
        "model_ft = train_model(model_ft, criterion, optimizer_ft, exp_lr_scheduler,\n",
        "                       num_epochs=25)"
      ]
    },
    {
      "cell_type": "code",
      "execution_count": null,
      "metadata": {
        "id": "S1yLDj0k0cRs",
        "outputId": "42188f59-366e-4fa2-f729-84ab7b5b0009"
      },
      "outputs": [
        {
          "data": {
            "image/png": "[encoded data removed]",
            "text/plain": [
              "<Figure size 432x288 with 1 Axes>"
            ]
          },
          "metadata": {
            "needs_background": "light"
          },
          "output_type": "display_data"
        },
        {
          "data": {
            "image/png": "[encoded data removed]",
            "text/plain": [
              "<Figure size 432x288 with 1 Axes>"
            ]
          },
          "metadata": {
            "needs_background": "light"
          },
          "output_type": "display_data"
        },
        {
          "data": {
            "image/png": "[encoded data removed]",
            "text/plain": [
              "<Figure size 432x288 with 1 Axes>"
            ]
          },
          "metadata": {
            "needs_background": "light"
          },
          "output_type": "display_data"
        },
        {
          "data": {
            "image/png": "[encoded data removed]",
            "text/plain": [
              "<Figure size 432x288 with 1 Axes>"
            ]
          },
          "metadata": {
            "needs_background": "light"
          },
          "output_type": "display_data"
        },
        {
          "data": {
            "image/png": "[encoded data removed]",
            "text/plain": [
              "<Figure size 432x288 with 1 Axes>"
            ]
          },
          "metadata": {
            "needs_background": "light"
          },
          "output_type": "display_data"
        },
        {
          "data": {
            "image/png": "[encoded data removed]",
            "text/plain": [
              "<Figure size 432x288 with 1 Axes>"
            ]
          },
          "metadata": {
            "needs_background": "light"
          },
          "output_type": "display_data"
        }
      ],
      "source": [
        "visualize_model(model_ft)"
      ]
    },
    {
      "cell_type": "markdown",
      "metadata": {
        "id": "jqshqImi0cRs"
      },
      "source": [
        "__2. ConvNet as a fixed feature extractor__"
      ]
    },
    {
      "cell_type": "code",
      "execution_count": null,
      "metadata": {
        "id": "XPEy9om80cRt"
      },
      "outputs": [],
      "source": [
        "model_conv = torchvision.models.resnet18(pretrained=True)\n",
        "for param in model_conv.parameters():\n",
        "    param.requires_grad = False\n",
        "\n",
        "# Parameters of newly constructed modules have requires_grad=True by default\n",
        "num_ftrs = model_conv.fc.in_features\n",
        "model_conv.fc = nn.Linear(num_ftrs, 2)\n",
        "\n",
        "model_conv = model_conv.to(device)\n",
        "\n",
        "criterion = nn.CrossEntropyLoss()\n",
        "\n",
        "# Observe that only parameters of final layer are being optimized as\n",
        "# opposed to before.\n",
        "optimizer_conv = optim.SGD(model_conv.fc.parameters(), lr=0.001, momentum=0.9)\n",
        "\n",
        "# Decay LR by a factor of 0.1 every 7 epochs\n",
        "exp_lr_scheduler = lr_scheduler.StepLR(optimizer_conv, step_size=7, gamma=0.1)"
      ]
    },
    {
      "cell_type": "code",
      "execution_count": null,
      "metadata": {
        "id": "DC7gLmeL0cRu",
        "outputId": "a4054933-2e71-424f-cc38-622cc59416e0"
      },
      "outputs": [
        {
          "name": "stdout",
          "output_type": "stream",
          "text": [
            "Epoch 0/24\n",
            "----------\n",
            "train Loss: 0.6117 Acc: 0.6516\n",
            "val Loss: 0.1861 Acc: 0.9346\n",
            "\n",
            "Epoch 1/24\n",
            "----------\n",
            "train Loss: 0.4997 Acc: 0.7869\n",
            "val Loss: 0.1554 Acc: 0.9477\n",
            "\n",
            "Epoch 2/24\n",
            "----------\n",
            "train Loss: 0.4533 Acc: 0.7910\n",
            "val Loss: 0.1769 Acc: 0.9412\n",
            "\n",
            "Epoch 3/24\n",
            "----------\n",
            "train Loss: 0.3644 Acc: 0.8443\n",
            "val Loss: 0.4362 Acc: 0.8170\n",
            "\n",
            "Epoch 4/24\n",
            "----------\n",
            "train Loss: 0.5050 Acc: 0.7910\n",
            "val Loss: 0.2064 Acc: 0.9412\n",
            "\n",
            "Epoch 5/24\n",
            "----------\n",
            "train Loss: 0.4159 Acc: 0.8156\n",
            "val Loss: 0.1605 Acc: 0.9673\n",
            "\n",
            "Epoch 6/24\n",
            "----------\n",
            "train Loss: 0.2819 Acc: 0.8689\n",
            "val Loss: 0.1816 Acc: 0.9608\n",
            "\n",
            "Epoch 7/24\n",
            "----------\n",
            "train Loss: 0.3727 Acc: 0.8484\n",
            "val Loss: 0.1783 Acc: 0.9608\n",
            "\n",
            "Epoch 8/24\n",
            "----------\n",
            "train Loss: 0.3350 Acc: 0.8607\n",
            "val Loss: 0.1739 Acc: 0.9477\n",
            "\n",
            "Epoch 9/24\n",
            "----------\n",
            "train Loss: 0.3023 Acc: 0.8689\n",
            "val Loss: 0.1667 Acc: 0.9542\n",
            "\n",
            "Epoch 10/24\n",
            "----------\n",
            "train Loss: 0.3761 Acc: 0.8156\n",
            "val Loss: 0.1865 Acc: 0.9477\n",
            "\n",
            "Epoch 11/24\n",
            "----------\n",
            "train Loss: 0.3677 Acc: 0.8402\n",
            "val Loss: 0.1702 Acc: 0.9542\n",
            "\n",
            "Epoch 12/24\n",
            "----------\n",
            "train Loss: 0.3806 Acc: 0.8484\n",
            "val Loss: 0.1662 Acc: 0.9608\n",
            "\n",
            "Epoch 13/24\n",
            "----------\n",
            "train Loss: 0.3202 Acc: 0.8648\n",
            "val Loss: 0.1637 Acc: 0.9608\n",
            "\n",
            "Epoch 14/24\n",
            "----------\n",
            "train Loss: 0.3172 Acc: 0.8566\n",
            "val Loss: 0.1837 Acc: 0.9542\n",
            "\n",
            "Epoch 15/24\n",
            "----------\n",
            "train Loss: 0.4108 Acc: 0.8197\n",
            "val Loss: 0.1738 Acc: 0.9542\n",
            "\n",
            "Epoch 16/24\n",
            "----------\n",
            "train Loss: 0.3393 Acc: 0.8525\n",
            "val Loss: 0.1733 Acc: 0.9542\n",
            "\n",
            "Epoch 17/24\n",
            "----------\n",
            "train Loss: 0.2831 Acc: 0.8484\n",
            "val Loss: 0.1740 Acc: 0.9542\n",
            "\n",
            "Epoch 18/24\n",
            "----------\n",
            "train Loss: 0.3206 Acc: 0.8566\n",
            "val Loss: 0.1788 Acc: 0.9477\n",
            "\n",
            "Epoch 19/24\n",
            "----------\n",
            "train Loss: 0.2870 Acc: 0.8811\n",
            "val Loss: 0.2324 Acc: 0.9281\n",
            "\n",
            "Epoch 20/24\n",
            "----------\n",
            "train Loss: 0.3168 Acc: 0.8525\n",
            "val Loss: 0.1635 Acc: 0.9477\n",
            "\n",
            "Epoch 21/24\n",
            "----------\n",
            "train Loss: 0.2471 Acc: 0.9057\n",
            "val Loss: 0.1719 Acc: 0.9608\n",
            "\n",
            "Epoch 22/24\n",
            "----------\n",
            "train Loss: 0.2690 Acc: 0.8730\n",
            "val Loss: 0.1748 Acc: 0.9542\n",
            "\n",
            "Epoch 23/24\n",
            "----------\n",
            "train Loss: 0.3963 Acc: 0.8115\n",
            "val Loss: 0.1642 Acc: 0.9608\n",
            "\n",
            "Epoch 24/24\n",
            "----------\n",
            "train Loss: 0.2726 Acc: 0.8852\n",
            "val Loss: 0.1963 Acc: 0.9477\n",
            "\n",
            "Training complete in 5m 11s\n",
            "Best val Acc: 0.967320\n"
          ]
        }
      ],
      "source": [
        "model_conv = train_model(model_conv, criterion, optimizer_conv,\n",
        "                         exp_lr_scheduler, num_epochs=25)"
      ]
    },
    {
      "cell_type": "code",
      "execution_count": null,
      "metadata": {
        "id": "KMaK0yJg0cR0",
        "outputId": "ae507503-2e16-4412-c73c-bf51fb09c16e"
      },
      "outputs": [
        {
          "data": {
            "image/png": "[encoded data removed]",
            "text/plain": [
              "<Figure size 432x288 with 1 Axes>"
            ]
          },
          "metadata": {
            "needs_background": "light"
          },
          "output_type": "display_data"
        },
        {
          "data": {
            "image/png": "[encoded data removed]",
            "text/plain": [
              "<Figure size 432x288 with 1 Axes>"
            ]
          },
          "metadata": {
            "needs_background": "light"
          },
          "output_type": "display_data"
        },
        {
          "data": {
            "image/png": "[encoded data removed]",
            "text/plain": [
              "<Figure size 432x288 with 1 Axes>"
            ]
          },
          "metadata": {
            "needs_background": "light"
          },
          "output_type": "display_data"
        },
        {
          "data": {
            "image/png": "[encoded data removed]",
            "text/plain": [
              "<Figure size 432x288 with 1 Axes>"
            ]
          },
          "metadata": {
            "needs_background": "light"
          },
          "output_type": "display_data"
        },
        {
          "data": {
            "image/png": "[encoded data removed]",
            "text/plain": [
              "<Figure size 432x288 with 1 Axes>"
            ]
          },
          "metadata": {
            "needs_background": "light"
          },
          "output_type": "display_data"
        },
        {
          "data": {
            "image/png": "[encoded data removed]",
            "text/plain": [
              "<Figure size 432x288 with 1 Axes>"
            ]
          },
          "metadata": {
            "needs_background": "light"
          },
          "output_type": "display_data"
        }
      ],
      "source": [
        "visualize_model(model_conv)\n",
        "\n",
        "plt.ioff()\n",
        "plt.show()"
      ]
    }
  ],
  "metadata": {
    "kernelspec": {
      "display_name": "Python 3",
      "language": "python",
      "name": "python3"
    },
    "language_info": {
      "codemirror_mode": {
        "name": "ipython",
        "version": 3
      },
      "file_extension": ".py",
      "mimetype": "text/x-python",
      "name": "python",
      "nbconvert_exporter": "python",
      "pygments_lexer": "ipython3",
      "version": "3.7.4"
    },
    "colab": {
      "name": "ACM SS: PyTorch Tutorial.ipynb",
      "provenance": [],
      "include_colab_link": true
    }
  },
  "nbformat": 4,
  "nbformat_minor": 0
}